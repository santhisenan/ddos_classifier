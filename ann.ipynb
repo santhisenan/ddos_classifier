{
 "cells": [
  {
   "cell_type": "code",
   "execution_count": 1,
   "metadata": {
    "colab": {},
    "colab_type": "code",
    "id": "G3S-MlleUrQy"
   },
   "outputs": [],
   "source": [
    "#!/usr/bin/env python\n",
    "# coding: utf-8\n"
   ]
  },
  {
   "cell_type": "code",
   "execution_count": 2,
   "metadata": {
    "colab": {},
    "colab_type": "code",
    "id": "g4txKqj1U_mh"
   },
   "outputs": [],
   "source": [
    "import numpy as np\n",
    "import pandas as pd\n",
    "import matplotlib.pyplot as plt\n",
    "import seaborn as sns;\n",
    "\n",
    "sns.set()\n",
    "get_ipython().run_line_magic('matplotlib', 'inline')"
   ]
  },
  {
   "cell_type": "code",
   "execution_count": 3,
   "metadata": {},
   "outputs": [
    {
     "name": "stderr",
     "output_type": "stream",
     "text": [
      "Using TensorFlow backend.\n"
     ]
    }
   ],
   "source": [
    "from keras.utils import plot_model\n",
    "from keras.models import Sequential, load_model\n",
    "from keras.models import Sequential\n",
    "from keras.layers import Dense\n",
    "from keras.utils import np_utils"
   ]
  },
  {
   "cell_type": "code",
   "execution_count": 4,
   "metadata": {
    "colab": {},
    "colab_type": "code",
    "id": "Fw64P2IAhCA0"
   },
   "outputs": [],
   "source": [
    "from sklearn.model_selection import train_test_split\n",
    "from sklearn.preprocessing import LabelEncoder, StandardScaler"
   ]
  },
  {
   "cell_type": "markdown",
   "metadata": {},
   "source": [
    "# Load The dataset"
   ]
  },
  {
   "cell_type": "code",
   "execution_count": 7,
   "metadata": {
    "colab": {},
    "colab_type": "code",
    "id": "b5RWCiQlVJji"
   },
   "outputs": [],
   "source": [
    "data_attack = pd.read_csv('../../dataset/dataset_attack.csv')"
   ]
  },
  {
   "cell_type": "code",
   "execution_count": 8,
   "metadata": {
    "colab": {},
    "colab_type": "code",
    "id": "u1fGNECEWiED"
   },
   "outputs": [],
   "source": [
    "data_normal = pd.read_csv('../../dataset/dataset_normal.csv')"
   ]
  },
  {
   "cell_type": "code",
   "execution_count": 9,
   "metadata": {
    "colab": {},
    "colab_type": "code",
    "id": "e9f9wBXgXMmS"
   },
   "outputs": [],
   "source": [
    "data_normal.columns=[ 'frame.len', 'frame.protocols', 'ip.hdr_len',\n",
    "       'ip.len', 'ip.flags.rb', 'ip.flags.df', 'p.flags.mf', 'ip.frag_offset',\n",
    "       'ip.ttl', 'ip.proto', 'ip.src', 'ip.dst', 'tcp.srcport', 'tcp.dstport',\n",
    "       'tcp.len', 'tcp.ack', 'tcp.flags.res', 'tcp.flags.ns', 'tcp.flags.cwr',\n",
    "       'tcp.flags.ecn', 'tcp.flags.urg', 'tcp.flags.ack', 'tcp.flags.push',\n",
    "       'tcp.flags.reset', 'tcp.flags.syn', 'tcp.flags.fin', 'tcp.window_size',\n",
    "       'tcp.time_delta','class']\n",
    "data_attack.columns=[ 'frame.len', 'frame.protocols', 'ip.hdr_len',\n",
    "       'ip.len', 'ip.flags.rb', 'ip.flags.df', 'p.flags.mf', 'ip.frag_offset',\n",
    "       'ip.ttl', 'ip.proto', 'ip.src', 'ip.dst', 'tcp.srcport', 'tcp.dstport',\n",
    "       'tcp.len', 'tcp.ack', 'tcp.flags.res', 'tcp.flags.ns', 'tcp.flags.cwr',\n",
    "       'tcp.flags.ecn', 'tcp.flags.urg', 'tcp.flags.ack', 'tcp.flags.push',\n",
    "       'tcp.flags.reset', 'tcp.flags.syn', 'tcp.flags.fin', 'tcp.window_size',\n",
    "       'tcp.time_delta','class']"
   ]
  },
  {
   "cell_type": "markdown",
   "metadata": {},
   "source": [
    "# Drop unwanted columns"
   ]
  },
  {
   "cell_type": "code",
   "execution_count": 10,
   "metadata": {
    "colab": {},
    "colab_type": "code",
    "id": "ZKgkq7-raBQS"
   },
   "outputs": [],
   "source": [
    "data_normal=data_normal.drop(['ip.src', 'ip.dst','frame.protocols'],axis=1)\n",
    "data_attack=data_attack.drop(['ip.src', 'ip.dst','frame.protocols'],axis=1)"
   ]
  },
  {
   "cell_type": "code",
   "execution_count": 11,
   "metadata": {
    "colab": {},
    "colab_type": "code",
    "id": "8529OhGcfIxf"
   },
   "outputs": [],
   "source": [
    "features=[ 'frame.len', 'ip.hdr_len',\n",
    "       'ip.len', 'ip.flags.rb', 'ip.flags.df', 'p.flags.mf', 'ip.frag_offset',\n",
    "       'ip.ttl', 'ip.proto', 'tcp.srcport', 'tcp.dstport',\n",
    "       'tcp.len', 'tcp.ack', 'tcp.flags.res', 'tcp.flags.ns', 'tcp.flags.cwr',\n",
    "       'tcp.flags.ecn', 'tcp.flags.urg', 'tcp.flags.ack', 'tcp.flags.push',\n",
    "       'tcp.flags.reset', 'tcp.flags.syn', 'tcp.flags.fin', 'tcp.window_size',\n",
    "       'tcp.time_delta']"
   ]
  },
  {
   "cell_type": "code",
   "execution_count": 12,
   "metadata": {
    "colab": {},
    "colab_type": "code",
    "id": "gOfOC5w7evFi"
   },
   "outputs": [],
   "source": [
    "X_normal= data_normal[features].values\n",
    "X_attack= data_attack[features].values\n",
    "Y_normal= data_normal['class']\n",
    "Y_attack= data_attack['class']\n",
    "X=np.concatenate((X_normal,X_attack))\n",
    "Y=np.concatenate((Y_normal,Y_attack))"
   ]
  },
  {
   "cell_type": "markdown",
   "metadata": {},
   "source": [
    "# Standardise the data"
   ]
  },
  {
   "cell_type": "code",
   "execution_count": 13,
   "metadata": {
    "colab": {},
    "colab_type": "code",
    "id": "hRh1B-NWhlCq"
   },
   "outputs": [],
   "source": [
    "scalar = StandardScaler(copy=True, with_mean=True, with_std=True)\n",
    "scalar.fit(X)\n",
    "X = scalar.transform(X)"
   ]
  },
  {
   "cell_type": "markdown",
   "metadata": {},
   "source": [
    "# If the class label is 'attack' replace it with a 0 and if the label is 'normal' use 1."
   ]
  },
  {
   "cell_type": "code",
   "execution_count": 14,
   "metadata": {
    "colab": {},
    "colab_type": "code",
    "id": "eAv9XOiLh_z-"
   },
   "outputs": [],
   "source": [
    "for i in range(0,len(Y)):\n",
    "  if Y[i] ==\"attack\":\n",
    "    Y[i]=0\n",
    "  else:\n",
    "    Y[i]=1\n",
    "    "
   ]
  },
  {
   "cell_type": "markdown",
   "metadata": {},
   "source": [
    "# Split the dataset into train and test set"
   ]
  },
  {
   "cell_type": "code",
   "execution_count": 15,
   "metadata": {
    "colab": {},
    "colab_type": "code",
    "id": "Kne-TX1Ieq8j"
   },
   "outputs": [],
   "source": [
    "X_train, X_test, Y_train, Y_test = train_test_split(X, Y, test_size = 0.2)"
   ]
  },
  {
   "cell_type": "code",
   "execution_count": 16,
   "metadata": {
    "colab": {},
    "colab_type": "code",
    "id": "mZOZh4jfbsYi"
   },
   "outputs": [
    {
     "name": "stdout",
     "output_type": "stream",
     "text": [
      "[0 0 1 ... 0 1 1]\n"
     ]
    }
   ],
   "source": [
    "print(Y_train)"
   ]
  },
  {
   "cell_type": "markdown",
   "metadata": {},
   "source": [
    "Architecture used\n",
    "\n",
    "![Model](model_ann.png)"
   ]
  },
  {
   "cell_type": "markdown",
   "metadata": {},
   "source": [
    "# Create model and fit training data"
   ]
  },
  {
   "cell_type": "code",
   "execution_count": 17,
   "metadata": {
    "colab": {},
    "colab_type": "code",
    "id": "qccq77focZsj"
   },
   "outputs": [],
   "source": [
    "def create_baseline():\n",
    "    # create the model\n",
    "    model = Sequential()\n",
    "    model.add(Dense(8, kernel_initializer='normal', activation='relu'))\n",
    "    model.add(Dense(1, kernel_initializer='normal', activation='sigmoid'))\n",
    "    # Compile model. We use the the logarithmic loss function, and the Adam gradient optimizer.\n",
    "    model.compile(loss='binary_crossentropy', optimizer='adam', metrics=['accuracy'])\n",
    "    return model"
   ]
  },
  {
   "cell_type": "code",
   "execution_count": 18,
   "metadata": {
    "colab": {},
    "colab_type": "code",
    "id": "M3fiE0YkchPi"
   },
   "outputs": [
    {
     "name": "stdout",
     "output_type": "stream",
     "text": [
      "WARNING:tensorflow:From /home/research/btechs813/.local/lib/python3.5/site-packages/tensorflow/python/framework/op_def_library.py:263: colocate_with (from tensorflow.python.framework.ops) is deprecated and will be removed in a future version.\n",
      "Instructions for updating:\n",
      "Colocations handled automatically by placer.\n"
     ]
    }
   ],
   "source": [
    "model = create_baseline()\n",
    "# model = load_model('ann_model.h5')"
   ]
  },
  {
   "cell_type": "code",
   "execution_count": null,
   "metadata": {
    "colab": {},
    "colab_type": "code",
    "id": "RvTjENuN0fcz"
   },
   "outputs": [
    {
     "name": "stdout",
     "output_type": "stream",
     "text": [
      "WARNING:tensorflow:From /home/research/btechs813/.local/lib/python3.5/site-packages/tensorflow/python/ops/math_ops.py:3066: to_int32 (from tensorflow.python.ops.math_ops) is deprecated and will be removed in a future version.\n",
      "Instructions for updating:\n",
      "Use tf.cast instead.\n",
      "Train on 3621758 samples, validate on 905440 samples\n",
      "Epoch 1/100\n",
      "3621758/3621758 [==============================] - 149s 41us/step - loss: 0.3546 - acc: 0.8245 - val_loss: 0.3097 - val_acc: 0.8655\n",
      "Epoch 2/100\n",
      "3621758/3621758 [==============================] - 149s 41us/step - loss: 0.3005 - acc: 0.8592 - val_loss: 0.2972 - val_acc: 0.8590\n",
      "Epoch 3/100\n",
      "3621758/3621758 [==============================] - 149s 41us/step - loss: 0.2930 - acc: 0.8622 - val_loss: 0.2898 - val_acc: 0.8674\n",
      "Epoch 4/100\n",
      "3621758/3621758 [==============================] - 149s 41us/step - loss: 0.2897 - acc: 0.8635 - val_loss: 0.2888 - val_acc: 0.8607\n",
      "Epoch 5/100\n",
      "3621758/3621758 [==============================] - 149s 41us/step - loss: 0.2886 - acc: 0.8640 - val_loss: 0.2880 - val_acc: 0.8654\n",
      "Epoch 6/100\n",
      "3621758/3621758 [==============================] - 149s 41us/step - loss: 0.2881 - acc: 0.8643 - val_loss: 0.2875 - val_acc: 0.8633\n",
      "Epoch 7/100\n",
      "3621758/3621758 [==============================] - 150s 41us/step - loss: 0.2879 - acc: 0.8644 - val_loss: 0.2860 - val_acc: 0.8638\n",
      "Epoch 8/100\n",
      "3621758/3621758 [==============================] - 149s 41us/step - loss: 0.2877 - acc: 0.8645 - val_loss: 0.2866 - val_acc: 0.8633\n",
      "Epoch 9/100\n",
      "3621758/3621758 [==============================] - 150s 41us/step - loss: 0.2875 - acc: 0.8648 - val_loss: 0.2857 - val_acc: 0.8678\n",
      "Epoch 10/100\n",
      "3621758/3621758 [==============================] - 149s 41us/step - loss: 0.2874 - acc: 0.8650 - val_loss: 0.2855 - val_acc: 0.8667\n",
      "Epoch 11/100\n",
      "3621758/3621758 [==============================] - 149s 41us/step - loss: 0.2873 - acc: 0.8650 - val_loss: 0.2866 - val_acc: 0.8671\n",
      "Epoch 12/100\n",
      "3621758/3621758 [==============================] - 150s 41us/step - loss: 0.2872 - acc: 0.8651 - val_loss: 0.2878 - val_acc: 0.8687\n",
      "Epoch 13/100\n",
      "3621758/3621758 [==============================] - 150s 41us/step - loss: 0.2871 - acc: 0.8652 - val_loss: 0.2845 - val_acc: 0.8640\n",
      "Epoch 14/100\n",
      "3621758/3621758 [==============================] - 149s 41us/step - loss: 0.2870 - acc: 0.8652 - val_loss: 0.2870 - val_acc: 0.8671\n",
      "Epoch 15/100\n",
      "3621758/3621758 [==============================] - 149s 41us/step - loss: 0.2870 - acc: 0.8653 - val_loss: 0.2856 - val_acc: 0.8654\n",
      "Epoch 16/100\n",
      "3621758/3621758 [==============================] - 149s 41us/step - loss: 0.2869 - acc: 0.8654 - val_loss: 0.2844 - val_acc: 0.8652\n",
      "Epoch 17/100\n",
      "3621758/3621758 [==============================] - 149s 41us/step - loss: 0.2869 - acc: 0.8652 - val_loss: 0.2875 - val_acc: 0.8656\n",
      "Epoch 18/100\n",
      "3621758/3621758 [==============================] - 149s 41us/step - loss: 0.2868 - acc: 0.8653 - val_loss: 0.2877 - val_acc: 0.8693\n",
      "Epoch 19/100\n",
      "3621758/3621758 [==============================] - 149s 41us/step - loss: 0.2868 - acc: 0.8654 - val_loss: 0.2863 - val_acc: 0.8649\n",
      "Epoch 20/100\n",
      "3621758/3621758 [==============================] - 151s 42us/step - loss: 0.2867 - acc: 0.8654 - val_loss: 0.2898 - val_acc: 0.8680\n",
      "Epoch 21/100\n",
      "3621758/3621758 [==============================] - 149s 41us/step - loss: 0.2867 - acc: 0.8656 - val_loss: 0.2860 - val_acc: 0.8642\n",
      "Epoch 22/100\n",
      "3621758/3621758 [==============================] - 149s 41us/step - loss: 0.2867 - acc: 0.8655 - val_loss: 0.2847 - val_acc: 0.8667\n",
      "Epoch 23/100\n",
      "3621758/3621758 [==============================] - 149s 41us/step - loss: 0.2866 - acc: 0.8655 - val_loss: 0.2851 - val_acc: 0.8639\n",
      "Epoch 24/100\n",
      "3621758/3621758 [==============================] - 150s 41us/step - loss: 0.2866 - acc: 0.8656 - val_loss: 0.2851 - val_acc: 0.8658\n",
      "Epoch 25/100\n",
      "3621758/3621758 [==============================] - 149s 41us/step - loss: 0.2866 - acc: 0.8655 - val_loss: 0.2898 - val_acc: 0.8635\n",
      "Epoch 26/100\n",
      "3621758/3621758 [==============================] - 149s 41us/step - loss: 0.2865 - acc: 0.8657 - val_loss: 0.2860 - val_acc: 0.8640\n",
      "Epoch 27/100\n",
      "3621758/3621758 [==============================] - 149s 41us/step - loss: 0.2865 - acc: 0.8657 - val_loss: 0.2846 - val_acc: 0.8657\n",
      "Epoch 28/100\n",
      "3621758/3621758 [==============================] - 148s 41us/step - loss: 0.2864 - acc: 0.8656 - val_loss: 0.2856 - val_acc: 0.8638\n",
      "Epoch 29/100\n",
      "3621758/3621758 [==============================] - 149s 41us/step - loss: 0.2864 - acc: 0.8657 - val_loss: 0.2877 - val_acc: 0.8663\n",
      "Epoch 30/100\n",
      "3621758/3621758 [==============================] - 149s 41us/step - loss: 0.2864 - acc: 0.8657 - val_loss: 0.2872 - val_acc: 0.8648\n",
      "Epoch 31/100\n",
      "3621758/3621758 [==============================] - 149s 41us/step - loss: 0.2863 - acc: 0.8657 - val_loss: 0.2872 - val_acc: 0.8622\n",
      "Epoch 32/100\n",
      "3621758/3621758 [==============================] - 149s 41us/step - loss: 0.2863 - acc: 0.8658 - val_loss: 0.2865 - val_acc: 0.8680\n",
      "Epoch 33/100\n",
      "3621758/3621758 [==============================] - 149s 41us/step - loss: 0.2863 - acc: 0.8657 - val_loss: 0.2871 - val_acc: 0.8679\n",
      "Epoch 34/100\n",
      "3621758/3621758 [==============================] - 149s 41us/step - loss: 0.2863 - acc: 0.8658 - val_loss: 0.2867 - val_acc: 0.8653\n",
      "Epoch 35/100\n",
      "3621758/3621758 [==============================] - 149s 41us/step - loss: 0.2862 - acc: 0.8658 - val_loss: 0.2853 - val_acc: 0.8679\n",
      "Epoch 36/100\n",
      "3621758/3621758 [==============================] - 149s 41us/step - loss: 0.2862 - acc: 0.8659 - val_loss: 0.2856 - val_acc: 0.8669\n",
      "Epoch 37/100\n",
      "3621758/3621758 [==============================] - 149s 41us/step - loss: 0.2862 - acc: 0.8659 - val_loss: 0.2854 - val_acc: 0.8691\n",
      "Epoch 38/100\n",
      "3621758/3621758 [==============================] - 149s 41us/step - loss: 0.2862 - acc: 0.8658 - val_loss: 0.2856 - val_acc: 0.8646\n",
      "Epoch 39/100\n",
      "3621758/3621758 [==============================] - 149s 41us/step - loss: 0.2861 - acc: 0.8658 - val_loss: 0.2866 - val_acc: 0.8678\n",
      "Epoch 40/100\n",
      "3621758/3621758 [==============================] - 149s 41us/step - loss: 0.2861 - acc: 0.8659 - val_loss: 0.2855 - val_acc: 0.8647\n",
      "Epoch 41/100\n",
      "3621758/3621758 [==============================] - 149s 41us/step - loss: 0.2861 - acc: 0.8660 - val_loss: 0.2870 - val_acc: 0.8642\n",
      "Epoch 42/100\n",
      "3621758/3621758 [==============================] - 149s 41us/step - loss: 0.2860 - acc: 0.8659 - val_loss: 0.2848 - val_acc: 0.8653\n",
      "Epoch 43/100\n",
      "3621758/3621758 [==============================] - 149s 41us/step - loss: 0.2861 - acc: 0.8659 - val_loss: 0.2854 - val_acc: 0.8632\n",
      "Epoch 44/100\n",
      "3621758/3621758 [==============================] - 149s 41us/step - loss: 0.2860 - acc: 0.8659 - val_loss: 0.2858 - val_acc: 0.8657\n",
      "Epoch 45/100\n",
      "3621758/3621758 [==============================] - 149s 41us/step - loss: 0.2860 - acc: 0.8660 - val_loss: 0.2850 - val_acc: 0.8678\n",
      "Epoch 46/100\n",
      "3621758/3621758 [==============================] - 150s 41us/step - loss: 0.2860 - acc: 0.8660 - val_loss: 0.2859 - val_acc: 0.8653\n",
      "Epoch 47/100\n",
      "3621758/3621758 [==============================] - 149s 41us/step - loss: 0.2859 - acc: 0.8661 - val_loss: 0.2860 - val_acc: 0.8695\n",
      "Epoch 48/100\n",
      "3621758/3621758 [==============================] - 149s 41us/step - loss: 0.2859 - acc: 0.8660 - val_loss: 0.2877 - val_acc: 0.8670\n",
      "Epoch 49/100\n",
      "3621758/3621758 [==============================] - 149s 41us/step - loss: 0.2859 - acc: 0.8660 - val_loss: 0.2857 - val_acc: 0.8629\n",
      "Epoch 50/100\n",
      "3621758/3621758 [==============================] - 150s 41us/step - loss: 0.2859 - acc: 0.8662 - val_loss: 0.2867 - val_acc: 0.8648\n",
      "Epoch 51/100\n",
      "3621758/3621758 [==============================] - 149s 41us/step - loss: 0.2859 - acc: 0.8661 - val_loss: 0.2878 - val_acc: 0.8677\n",
      "Epoch 52/100\n",
      "3621758/3621758 [==============================] - 149s 41us/step - loss: 0.2859 - acc: 0.8660 - val_loss: 0.2848 - val_acc: 0.8663\n",
      "Epoch 53/100\n",
      "3621758/3621758 [==============================] - 149s 41us/step - loss: 0.2858 - acc: 0.8661 - val_loss: 0.2852 - val_acc: 0.8663\n",
      "Epoch 54/100\n",
      "3621758/3621758 [==============================] - 149s 41us/step - loss: 0.2859 - acc: 0.8660 - val_loss: 0.2843 - val_acc: 0.8666\n",
      "Epoch 55/100\n"
     ]
    },
    {
     "name": "stdout",
     "output_type": "stream",
     "text": [
      "3621758/3621758 [==============================] - 149s 41us/step - loss: 0.2858 - acc: 0.8660 - val_loss: 0.2845 - val_acc: 0.8661\n",
      "Epoch 56/100\n",
      "3621758/3621758 [==============================] - 149s 41us/step - loss: 0.2859 - acc: 0.8661 - val_loss: 0.2870 - val_acc: 0.8666\n",
      "Epoch 57/100\n",
      "3621758/3621758 [==============================] - 149s 41us/step - loss: 0.2858 - acc: 0.8661 - val_loss: 0.2849 - val_acc: 0.8687\n",
      "Epoch 58/100\n",
      "3621758/3621758 [==============================] - 149s 41us/step - loss: 0.2858 - acc: 0.8661 - val_loss: 0.2840 - val_acc: 0.8667\n",
      "Epoch 59/100\n",
      "3621758/3621758 [==============================] - 149s 41us/step - loss: 0.2858 - acc: 0.8661 - val_loss: 0.2852 - val_acc: 0.8678\n",
      "Epoch 60/100\n",
      "3621758/3621758 [==============================] - 149s 41us/step - loss: 0.2858 - acc: 0.8661 - val_loss: 0.2842 - val_acc: 0.8682\n",
      "Epoch 61/100\n",
      "3621758/3621758 [==============================] - 149s 41us/step - loss: 0.2858 - acc: 0.8661 - val_loss: 0.2863 - val_acc: 0.8655\n",
      "Epoch 62/100\n",
      "3621758/3621758 [==============================] - 149s 41us/step - loss: 0.2858 - acc: 0.8661 - val_loss: 0.2852 - val_acc: 0.8661\n",
      "Epoch 63/100\n",
      "3621758/3621758 [==============================] - 149s 41us/step - loss: 0.2857 - acc: 0.8663 - val_loss: 0.2854 - val_acc: 0.8690\n",
      "Epoch 64/100\n",
      "3621758/3621758 [==============================] - 149s 41us/step - loss: 0.2857 - acc: 0.8662 - val_loss: 0.2854 - val_acc: 0.8691\n",
      "Epoch 65/100\n",
      "3621758/3621758 [==============================] - 149s 41us/step - loss: 0.2857 - acc: 0.8661 - val_loss: 0.2866 - val_acc: 0.8655\n",
      "Epoch 66/100\n",
      "3621758/3621758 [==============================] - 149s 41us/step - loss: 0.2857 - acc: 0.8662 - val_loss: 0.2861 - val_acc: 0.8684\n",
      "Epoch 67/100\n",
      "3621758/3621758 [==============================] - 149s 41us/step - loss: 0.2856 - acc: 0.8662 - val_loss: 0.2854 - val_acc: 0.8699\n",
      "Epoch 68/100\n",
      "3621758/3621758 [==============================] - 149s 41us/step - loss: 0.2857 - acc: 0.8662 - val_loss: 0.2856 - val_acc: 0.8646\n",
      "Epoch 69/100\n",
      "3621758/3621758 [==============================] - 149s 41us/step - loss: 0.2856 - acc: 0.8662 - val_loss: 0.2851 - val_acc: 0.8638\n",
      "Epoch 70/100\n",
      "3621758/3621758 [==============================] - 149s 41us/step - loss: 0.2857 - acc: 0.8662 - val_loss: 0.2868 - val_acc: 0.8650\n",
      "Epoch 71/100\n",
      "3621758/3621758 [==============================] - 149s 41us/step - loss: 0.2857 - acc: 0.8663 - val_loss: 0.2854 - val_acc: 0.8676\n",
      "Epoch 72/100\n",
      "3621758/3621758 [==============================] - 149s 41us/step - loss: 0.2857 - acc: 0.8661 - val_loss: 0.2880 - val_acc: 0.8650\n",
      "Epoch 73/100\n",
      "3621758/3621758 [==============================] - 149s 41us/step - loss: 0.2856 - acc: 0.8662 - val_loss: 0.2856 - val_acc: 0.8650\n",
      "Epoch 74/100\n",
      "3621758/3621758 [==============================] - 149s 41us/step - loss: 0.2856 - acc: 0.8662 - val_loss: 0.2857 - val_acc: 0.8640\n",
      "Epoch 75/100\n",
      "3621758/3621758 [==============================] - 149s 41us/step - loss: 0.2856 - acc: 0.8662 - val_loss: 0.2853 - val_acc: 0.8664\n",
      "Epoch 76/100\n",
      "3621758/3621758 [==============================] - 149s 41us/step - loss: 0.2856 - acc: 0.8662 - val_loss: 0.2861 - val_acc: 0.8627\n",
      "Epoch 77/100\n",
      "3621758/3621758 [==============================] - 149s 41us/step - loss: 0.2856 - acc: 0.8663 - val_loss: 0.2843 - val_acc: 0.8643\n",
      "Epoch 78/100\n",
      "3621758/3621758 [==============================] - 149s 41us/step - loss: 0.2856 - acc: 0.8661 - val_loss: 0.2846 - val_acc: 0.8641\n",
      "Epoch 79/100\n",
      "3621758/3621758 [==============================] - 149s 41us/step - loss: 0.2856 - acc: 0.8663 - val_loss: 0.2864 - val_acc: 0.8669\n",
      "Epoch 80/100\n",
      "3621758/3621758 [==============================] - 149s 41us/step - loss: 0.2856 - acc: 0.8663 - val_loss: 0.2870 - val_acc: 0.8690\n",
      "Epoch 81/100\n",
      "3621758/3621758 [==============================] - 149s 41us/step - loss: 0.2856 - acc: 0.8663 - val_loss: 0.2866 - val_acc: 0.8640\n",
      "Epoch 82/100\n",
      "3621758/3621758 [==============================] - 149s 41us/step - loss: 0.2856 - acc: 0.8663 - val_loss: 0.2858 - val_acc: 0.8686\n",
      "Epoch 83/100\n",
      "3621758/3621758 [==============================] - 149s 41us/step - loss: 0.2855 - acc: 0.8663 - val_loss: 0.2849 - val_acc: 0.8657\n",
      "Epoch 84/100\n",
      " 243424/3621758 [=>............................] - ETA: 2:13 - loss: 0.2857 - acc: 0.8664"
     ]
    }
   ],
   "source": [
    "history = model.fit(X_train, Y_train, validation_split = 0.2, epochs = 100)"
   ]
  },
  {
   "cell_type": "markdown",
   "metadata": {},
   "source": [
    "# Plot training & validation accuracy values"
   ]
  },
  {
   "cell_type": "code",
   "execution_count": null,
   "metadata": {
    "colab": {},
    "colab_type": "code",
    "id": "s5L8YGW9c9jC"
   },
   "outputs": [],
   "source": [
    "plt.plot(history.history['acc'])\n",
    "plt.plot(history.history['val_acc'])\n",
    "plt.title('ANN Model Accuracy')\n",
    "plt.ylabel('Accuracy')\n",
    "plt.xlabel('Epoch')\n",
    "plt.legend(['Train', 'Test'], loc='upper left')\n",
    "plt.savefig('ANN Model Accuracy.png')\n",
    "plt.show()"
   ]
  },
  {
   "cell_type": "markdown",
   "metadata": {},
   "source": [
    "# Plot training & validation loss values"
   ]
  },
  {
   "cell_type": "code",
   "execution_count": null,
   "metadata": {
    "colab": {},
    "colab_type": "code",
    "id": "5MQJe3MulML6"
   },
   "outputs": [],
   "source": [
    "plt.plot(history.history['loss'])\n",
    "plt.plot(history.history['val_loss'])\n",
    "plt.title('ANN Model Loss')\n",
    "plt.ylabel('Loss')\n",
    "plt.xlabel('Epoch')\n",
    "plt.legend(['Train', 'Test'], loc='upper left')\n",
    "plt.savefig('ANN Model loss.png')\n",
    "plt.show()"
   ]
  },
  {
   "cell_type": "code",
   "execution_count": null,
   "metadata": {
    "colab": {},
    "colab_type": "code",
    "id": "SnIcf7-50zz9"
   },
   "outputs": [],
   "source": [
    "predict = model.predict(X_test, verbose=1)"
   ]
  },
  {
   "cell_type": "markdown",
   "metadata": {},
   "source": [
    "# Calculate True positive, True negetive, False positive and False negetive values and create a Heatmap"
   ]
  },
  {
   "cell_type": "code",
   "execution_count": null,
   "metadata": {
    "colab": {},
    "colab_type": "code",
    "id": "X17ORqY500TF"
   },
   "outputs": [],
   "source": [
    "tp = 0\n",
    "tn = 0\n",
    "fp = 0\n",
    "fn = 0\n",
    "predictn = predict.flatten().round()\n",
    "predictn = predictn.tolist()\n",
    "Y_testn = Y_test.tolist()\n",
    "for i in range(len(Y_testn)):\n",
    "  if predictn[i]==1 and Y_testn[i]==1:\n",
    "    tp+=1\n",
    "  elif predictn[i]==0 and Y_testn[i]==0:\n",
    "    tn+=1\n",
    "  elif predictn[i]==0 and Y_testn[i]==1:\n",
    "    fp+=1\n",
    "  elif predictn[i]==1 and Y_testn[i]==0:\n",
    "    fn+=1\n"
   ]
  },
  {
   "cell_type": "code",
   "execution_count": null,
   "metadata": {
    "colab": {
     "base_uri": "https://localhost:8080/",
     "height": 274
    },
    "colab_type": "code",
    "executionInfo": {
     "elapsed": 1256,
     "status": "ok",
     "timestamp": 1557862458014,
     "user": {
      "displayName": "Mohammed Musthafa",
      "photoUrl": "",
      "userId": "16090542423726450957"
     },
     "user_tz": -330
    },
    "id": "GpvgqplJ0_OW",
    "outputId": "b9f197a7-bea1-430a-e14b-aff70070fc65"
   },
   "outputs": [],
   "source": [
    "to_heat_map =[[tn,fp],[fn,tp]]\n",
    "to_heat_map = pd.DataFrame(to_heat_map, index = [\"Attack\",\"Normal\"],columns = [\"Attack\",\"Normal\"])\n",
    "ax = sns.heatmap(to_heat_map,annot=True, fmt=\"d\")"
   ]
  },
  {
   "cell_type": "markdown",
   "metadata": {},
   "source": [
    "# Save details"
   ]
  },
  {
   "cell_type": "code",
   "execution_count": null,
   "metadata": {
    "colab": {},
    "colab_type": "code",
    "id": "KjD1Lbyo0_f9"
   },
   "outputs": [],
   "source": [
    "figure = ax.get_figure()    \n",
    "figure.savefig('confusion_matrix_ANN.png', dpi=400)"
   ]
  },
  {
   "cell_type": "code",
   "execution_count": null,
   "metadata": {
    "colab": {},
    "colab_type": "code",
    "id": "YNrb4LX8fUHL"
   },
   "outputs": [],
   "source": [
    "model.save('ann_model.h5')\n",
    "plot_model(model, to_file='model_ann.png',show_shapes=True, show_layer_names=True)"
   ]
  },
  {
   "cell_type": "code",
   "execution_count": null,
   "metadata": {
    "colab": {},
    "colab_type": "code",
    "id": "8OFTjskefWs2"
   },
   "outputs": [],
   "source": [
    "ann_viz(model, title=\"My first neural network\")"
   ]
  },
  {
   "cell_type": "code",
   "execution_count": null,
   "metadata": {
    "colab": {
     "base_uri": "https://localhost:8080/",
     "height": 34
    },
    "colab_type": "code",
    "executionInfo": {
     "elapsed": 14400,
     "status": "ok",
     "timestamp": 1557862341680,
     "user": {
      "displayName": "Mohammed Musthafa",
      "photoUrl": "",
      "userId": "16090542423726450957"
     },
     "user_tz": -330
    },
    "id": "ezDaVb1lfbky",
    "outputId": "3b37f818-36f7-4748-df22-357126e8250a"
   },
   "outputs": [],
   "source": [
    "scores = model.evaluate(X_test, Y_test, verbose=0)\n",
    "print(\"%s: %.2f%%\" % (model.metrics_names[1], scores[1]*100))"
   ]
  },
  {
   "cell_type": "code",
   "execution_count": null,
   "metadata": {},
   "outputs": [],
   "source": []
  }
 ],
 "metadata": {
  "colab": {
   "collapsed_sections": [],
   "name": "preprocessing dataset.ipynb",
   "provenance": [],
   "version": "0.3.2"
  },
  "kernelspec": {
   "display_name": "Python 3",
   "language": "python",
   "name": "python3"
  },
  "language_info": {
   "codemirror_mode": {
    "name": "ipython",
    "version": 3
   },
   "file_extension": ".py",
   "mimetype": "text/x-python",
   "name": "python",
   "nbconvert_exporter": "python",
   "pygments_lexer": "ipython3",
   "version": "3.5.2"
  }
 },
 "nbformat": 4,
 "nbformat_minor": 1
}
